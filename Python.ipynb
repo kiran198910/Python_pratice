{
  "nbformat": 4,
  "nbformat_minor": 0,
  "metadata": {
    "colab": {
      "name": "Untitled1.ipynb",
      "provenance": [],
      "collapsed_sections": [],
      "include_colab_link": true
    },
    "kernelspec": {
      "name": "python3",
      "display_name": "Python 3"
    }
  },
  "cells": [
    {
      "cell_type": "markdown",
      "metadata": {
        "id": "view-in-github",
        "colab_type": "text"
      },
      "source": [
        "<a href=\"https://colab.research.google.com/github/kiran198910/Python_pratice/blob/master/Python.ipynb\" target=\"_parent\"><img src=\"https://colab.research.google.com/assets/colab-badge.svg\" alt=\"Open In Colab\"/></a>"
      ]
    },
    {
      "cell_type": "code",
      "metadata": {
        "id": "bNZhRA_WolI9",
        "colab_type": "code",
        "outputId": "599e9a5b-993a-4b92-d85b-9fa54b5643ad",
        "colab": {
          "base_uri": "https://localhost:8080/",
          "height": 68
        }
      },
      "source": [
        "first_number = int(input(\"Enter First Number: \"))\n",
        "second_number = int(input(\"Enter Second Number: \"))\n",
        "product = first_number * second_number\n",
        "if product >1000:\n",
        "  sum = first_number + second_number \n",
        "  print(\"Sum = \",sum)\n",
        "else:\n",
        "  print(\"Product = \",product)\n"
      ],
      "execution_count": 0,
      "outputs": [
        {
          "output_type": "stream",
          "text": [
            "Enter First Number100\n",
            "Enter Second Number200\n",
            "Sum =  300\n"
          ],
          "name": "stdout"
        }
      ]
    },
    {
      "cell_type": "code",
      "metadata": {
        "id": "CIU_AmTvqT8R",
        "colab_type": "code",
        "outputId": "7db1a985-e577-412a-e7c4-e45209c47976",
        "colab": {
          "base_uri": "https://localhost:8080/",
          "height": 68
        }
      },
      "source": [
        "def calculate(num1, num2):\n",
        "  product = num1 * num2\n",
        "  if product > 1000:\n",
        "    sum = num1 + num2\n",
        "    return sum\n",
        "  else:\n",
        "    return product\n",
        "\n",
        "num1 = int(input(\"Enter First Number \"))\n",
        "num2 = int(input(\"Enter Second Number \"))\n",
        "result = calculate(num1, num2)\n",
        "print (\"Result = \",result )\n",
        "\n",
        "\n",
        "\n"
      ],
      "execution_count": 0,
      "outputs": [
        {
          "output_type": "stream",
          "text": [
            "Enter First Number100\n",
            "Enter Second Number200\n",
            "Result =  300\n"
          ],
          "name": "stdout"
        }
      ]
    },
    {
      "cell_type": "code",
      "metadata": {
        "id": "K3WwiiV5r9L1",
        "colab_type": "code",
        "outputId": "4db24cbe-e1cd-427f-dc2b-e7b6508be2da",
        "colab": {
          "base_uri": "https://localhost:8080/",
          "height": 68
        }
      },
      "source": [
        "## Calculate Average of Number \n",
        "def calculate_avg(number_list):\n",
        "  count = 0\n",
        "  for num in number_list:\n",
        "    count += num\n",
        "  average = count/len(number_list)\n",
        "  return average\n",
        "\n",
        "number = list(map(int, input(\"Enter a multiple value: \").split(','))) \n",
        "print (number)\n",
        "result = calculate_avg(number)\n",
        "print(\"Result = \", result)\n",
        "\n"
      ],
      "execution_count": 0,
      "outputs": [
        {
          "output_type": "stream",
          "text": [
            "Enter a multiple value: 10,20,30,40\n",
            "[10, 20, 30, 40]\n",
            "Result =  25.0\n"
          ],
          "name": "stdout"
        }
      ]
    },
    {
      "cell_type": "code",
      "metadata": {
        "id": "RsqtnnGIwauS",
        "colab_type": "code",
        "outputId": "1e394639-12ae-4e20-db62-53cd71173d86",
        "colab": {
          "base_uri": "https://localhost:8080/",
          "height": 204
        }
      },
      "source": [
        "## Print Addition of current number and previous number\n",
        "\n",
        "def number_addition(num):\n",
        "  ## Accept num - range of ietrate values\n",
        "  previous_number = 0\n",
        "  for i in range(num):\n",
        "    addition = previous_number + i\n",
        "    previous_number = i\n",
        "    print (addition)\n",
        "\n",
        "num = int(input(\"Enter Number\"))\n",
        "number_addition(num)\n",
        "\n"
      ],
      "execution_count": 0,
      "outputs": [
        {
          "output_type": "stream",
          "text": [
            "Enter Number10\n",
            "0\n",
            "1\n",
            "3\n",
            "5\n",
            "7\n",
            "9\n",
            "11\n",
            "13\n",
            "15\n",
            "17\n"
          ],
          "name": "stdout"
        }
      ]
    },
    {
      "cell_type": "code",
      "metadata": {
        "id": "MkNqHWXGJvaS",
        "colab_type": "code",
        "outputId": "19498cb4-0a79-4cf2-f3f2-86f8c71b3db9",
        "colab": {
          "base_uri": "https://localhost:8080/",
          "height": 68
        }
      },
      "source": [
        "string = input(\"Enter string: \")\n",
        "n = input(\"Enter char to remove: \")\n",
        "l = []\n",
        "for i in string:\n",
        "  # print(i)\n",
        "  l.append(i)\n",
        "  if n in l:\n",
        "    l.remove(n)\n",
        "print (''.join(l))"
      ],
      "execution_count": 0,
      "outputs": [
        {
          "output_type": "stream",
          "text": [
            "Enter string: rahultate\n",
            "Enter char to remove: a\n",
            "rhultte\n"
          ],
          "name": "stdout"
        }
      ]
    },
    {
      "cell_type": "code",
      "metadata": {
        "id": "z-MyixZwTD80",
        "colab_type": "code",
        "outputId": "a08fbab5-f8ec-492f-b3a0-0eb82f49c6a6",
        "colab": {
          "base_uri": "https://localhost:8080/",
          "height": 34
        }
      },
      "source": [
        "#Reverse Each String without using inbult functions\n",
        "sent = \"xyz is working at Casoft\"\n",
        "new_sen =\"\"\n",
        "start_index=0\n",
        "end_index=0\n",
        "for i in range(0, len(sent)):\n",
        "  if sent[i] == \" \":\n",
        "    end_index=start_index\n",
        "    start_index=i\n",
        "    if end_index == 0:\n",
        "      new_sen=new_sen+sent[start_index::-1]\n",
        "    else:\n",
        "      new_sen=new_sen+sent[start_index:end_index:-1] \n",
        "  elif i == len(sent)-1:\n",
        "    new_sen=new_sen+\" \"+sent[len(sent):start_index:-1] \n",
        "\n",
        "print(new_sen)\n"
      ],
      "execution_count": 0,
      "outputs": [
        {
          "output_type": "stream",
          "text": [
            " zyx si gnikrow ta tfosaC\n"
          ],
          "name": "stdout"
        }
      ]
    },
    {
      "cell_type": "code",
      "metadata": {
        "id": "e7-l01m5mBQu",
        "colab_type": "code",
        "outputId": "8fe84ac1-288b-4474-ce34-ef7803061931",
        "colab": {
          "base_uri": "https://localhost:8080/",
          "height": 51
        }
      },
      "source": [
        "## Amstrong Number\n",
        "\n",
        "def calculate_amstrong_number(num):\n",
        "  sum = 0\n",
        "  n = len(num)\n",
        "  for i in num:\n",
        "    sum += int(i) ** n\n",
        "  return sum\n",
        "\n",
        "num = input(\"Enter Number\")\n",
        "result = calculate_amstrong_number(num)\n",
        "\n",
        "if result == int(num):\n",
        "  print(\"Number is Amstrong\")\n",
        "else:\n",
        "  print ('Number is not Amstrong')\n",
        "\n"
      ],
      "execution_count": 0,
      "outputs": [
        {
          "output_type": "stream",
          "text": [
            "Enter Number152\n",
            "Number is not Amstrong\n"
          ],
          "name": "stdout"
        }
      ]
    },
    {
      "cell_type": "code",
      "metadata": {
        "id": "Y5mAbBFWrBp6",
        "colab_type": "code",
        "outputId": "b5d53d25-5497-40db-ffe2-dbc76b2ecf76",
        "colab": {
          "base_uri": "https://localhost:8080/",
          "height": 68
        }
      },
      "source": [
        "s1 = input(\"Enter string \")\n",
        "s1 = s1.split(',')\n",
        "print(s1)\n",
        "count = 0\n",
        "\n",
        "for data in range(0, len(s1)):\n",
        "    for j in range(0, len(s1) - data - 1):\n",
        "        if s1[j] > s1[j + 1]:\n",
        "            s1[j], s1[j + 1] = s1[j + 1], s1[j]\n",
        "print(s1)"
      ],
      "execution_count": 0,
      "outputs": [
        {
          "output_type": "stream",
          "text": [
            "Enter string bag, apple, xyz\n",
            "['bag', ' apple', ' xyz']\n",
            "[' apple', ' xyz', 'bag']\n"
          ],
          "name": "stdout"
        }
      ]
    },
    {
      "cell_type": "code",
      "metadata": {
        "id": "HeZnelyXRt7j",
        "colab_type": "code",
        "colab": {}
      },
      "source": [
        ""
      ],
      "execution_count": 0,
      "outputs": []
    }
  ]
}